{
 "cells": [
  {
   "cell_type": "markdown",
   "metadata": {
    "id": "VcQufrWvfY1J"
   },
   "source": [
    "## Google Colab setup (don't run locally)"
   ]
  },
  {
   "cell_type": "code",
   "execution_count": null,
   "metadata": {
    "colab": {
     "base_uri": "https://localhost:8080/"
    },
    "executionInfo": {
     "elapsed": 58280,
     "status": "ok",
     "timestamp": 1743033053332,
     "user": {
      "displayName": "Jade S",
      "userId": "08462326512389871838"
     },
     "user_tz": 240
    },
    "id": "8ld1DehvfmVE",
    "outputId": "886e0d35-d476-467d-b1f9-27ba21619c9b"
   },
   "outputs": [
    {
     "name": "stderr",
     "output_type": "stream",
     "text": [
      "Traceback (most recent call last):\n",
      "  File \"<frozen runpy>\", line 198, in _run_module_as_main\n",
      "  File \"<frozen runpy>\", line 88, in _run_code\n",
      "  File \"C:\\Users\\Jade\\anaconda3\\envs\\ml_steam_proj\\Scripts\\kaggle.exe\\__main__.py\", line 7, in <module>\n",
      "  File \"C:\\Users\\Jade\\anaconda3\\envs\\ml_steam_proj\\Lib\\site-packages\\kaggle\\cli.py\", line 68, in main\n",
      "    out = args.func(**command_args)\n",
      "          ^^^^^^^^^^^^^^^^^^^^^^^^^\n",
      "  File \"C:\\Users\\Jade\\anaconda3\\envs\\ml_steam_proj\\Lib\\site-packages\\kaggle\\api\\kaggle_api_extended.py\", line 1734, in dataset_download_cli\n",
      "    with self.build_kaggle_client() as kaggle:\n",
      "         ^^^^^^^^^^^^^^^^^^^^^^^^^^\n",
      "  File \"C:\\Users\\Jade\\anaconda3\\envs\\ml_steam_proj\\Lib\\site-packages\\kaggle\\api\\kaggle_api_extended.py\", line 688, in build_kaggle_client\n",
      "    username=self.config_values['username'],\n",
      "             ~~~~~~~~~~~~~~~~~~^^^^^^^^^^^^\n",
      "KeyError: 'username'\n"
     ]
    }
   ],
   "source": [
    "import os\n",
    "import shutil\n",
    "\n",
    "# setting up paths\n",
    "path_to_project_files = 'C:/Users/Jade/Downloads/Project-20250326T235242Z-001/Project'\n",
    "existing = os.path.join(path_to_project_files, 'kaggle.json')\n",
    "path_to_colab_utils = 'C:\\Users\\Jade\\.kaggle'\n",
    "target = os.path.join(path_to_colab_utils, 'kaggle.json')\n",
    "\n",
    "# move the key to the colab root\n",
    "os.makedirs(path_to_colab_utils, exist_ok=True)\n",
    "shutil.copy(existing, target)\n",
    "os.chmod(target, 600)\n",
    "\n",
    "# download the data into /content (which is temporary)\n",
    "!kaggle datasets download -d xhlulu/leafsnap-dataset -p path_to_project_files --unzip"
   ]
  },
  {
   "cell_type": "code",
   "execution_count": 2,
   "metadata": {
    "executionInfo": {
     "elapsed": 7,
     "status": "ok",
     "timestamp": 1743023063277,
     "user": {
      "displayName": "Jade S",
      "userId": "08462326512389871838"
     },
     "user_tz": 240
    },
    "id": "Pojg5BTgiA2x"
   },
   "outputs": [],
   "source": [
    "import sys"
   ]
  },
  {
   "cell_type": "markdown",
   "metadata": {
    "id": "VZ6t5flAg_L3"
   },
   "source": [
    "## Library Imports"
   ]
  },
  {
   "cell_type": "code",
   "execution_count": 3,
   "metadata": {
    "executionInfo": {
     "elapsed": 3060,
     "status": "ok",
     "timestamp": 1743023066333,
     "user": {
      "displayName": "Jade S",
      "userId": "08462326512389871838"
     },
     "user_tz": 240
    },
    "id": "c2wCOwrEg_L7"
   },
   "outputs": [
    {
     "ename": "ModuleNotFoundError",
     "evalue": "No module named 'tqdm'",
     "output_type": "error",
     "traceback": [
      "\u001b[31m---------------------------------------------------------------------------\u001b[39m",
      "\u001b[31mModuleNotFoundError\u001b[39m                       Traceback (most recent call last)",
      "\u001b[36mCell\u001b[39m\u001b[36m \u001b[39m\u001b[32mIn[3]\u001b[39m\u001b[32m, line 1\u001b[39m\n\u001b[32m----> \u001b[39m\u001b[32m1\u001b[39m \u001b[38;5;28;01mfrom\u001b[39;00m\u001b[38;5;250m \u001b[39m\u001b[34;01mautoencoder\u001b[39;00m\u001b[38;5;250m \u001b[39m\u001b[38;5;28;01mimport\u001b[39;00m *\n\u001b[32m      2\u001b[39m \u001b[38;5;28;01mfrom\u001b[39;00m\u001b[38;5;250m \u001b[39m\u001b[34;01mdataloader\u001b[39;00m\u001b[38;5;250m \u001b[39m\u001b[38;5;28;01mimport\u001b[39;00m *\n\u001b[32m      3\u001b[39m \u001b[38;5;28;01mfrom\u001b[39;00m\u001b[38;5;250m \u001b[39m\u001b[34;01mcnn\u001b[39;00m\u001b[38;5;250m \u001b[39m\u001b[38;5;28;01mimport\u001b[39;00m *\n",
      "\u001b[36mFile \u001b[39m\u001b[32mc:\\Users\\Jade\\Downloads\\Project-20250326T235242Z-001\\Project\\autoencoder.py:8\u001b[39m\n\u001b[32m      6\u001b[39m \u001b[38;5;28;01mimport\u001b[39;00m\u001b[38;5;250m \u001b[39m\u001b[34;01mtorch\u001b[39;00m\u001b[34;01m.\u001b[39;00m\u001b[34;01mnn\u001b[39;00m\u001b[38;5;250m \u001b[39m\u001b[38;5;28;01mas\u001b[39;00m\u001b[38;5;250m \u001b[39m\u001b[34;01mnn\u001b[39;00m\n\u001b[32m      7\u001b[39m \u001b[38;5;28;01mimport\u001b[39;00m\u001b[38;5;250m \u001b[39m\u001b[34;01mtorch\u001b[39;00m\u001b[34;01m.\u001b[39;00m\u001b[34;01moptim\u001b[39;00m\u001b[38;5;250m \u001b[39m\u001b[38;5;28;01mas\u001b[39;00m\u001b[38;5;250m \u001b[39m\u001b[34;01moptim\u001b[39;00m\n\u001b[32m----> \u001b[39m\u001b[32m8\u001b[39m \u001b[38;5;28;01mfrom\u001b[39;00m\u001b[38;5;250m \u001b[39m\u001b[34;01mtqdm\u001b[39;00m\u001b[38;5;250m \u001b[39m\u001b[38;5;28;01mimport\u001b[39;00m tqdm\n\u001b[32m     10\u001b[39m \u001b[38;5;28;01mclass\u001b[39;00m\u001b[38;5;250m \u001b[39m\u001b[34;01mAEClassifier\u001b[39;00m(nn.Module):\n\u001b[32m     11\u001b[39m     \u001b[38;5;28;01mdef\u001b[39;00m\u001b[38;5;250m \u001b[39m\u001b[34m__init__\u001b[39m(\u001b[38;5;28mself\u001b[39m, encoder:nn.Module, layer_sizes:List[\u001b[38;5;28mint\u001b[39m], device):\n",
      "\u001b[31mModuleNotFoundError\u001b[39m: No module named 'tqdm'"
     ]
    }
   ],
   "source": [
    "from autoencoder import *\n",
    "from dataloader import *\n",
    "from cnn import *\n",
    "\n",
    "import torch\n",
    "from torch.utils.data import DataLoader\n",
    "from torchvision.transforms import v2\n",
    "import os"
   ]
  },
  {
   "cell_type": "code",
   "execution_count": null,
   "metadata": {
    "executionInfo": {
     "elapsed": 4,
     "status": "ok",
     "timestamp": 1743023066352,
     "user": {
      "displayName": "Jade S",
      "userId": "08462326512389871838"
     },
     "user_tz": 240
    },
    "id": "_vHlyC5Vg_L8"
   },
   "outputs": [],
   "source": [
    "import matplotlib.pyplot as plt\n",
    "\n",
    "def showTensorInNotebook(tensor):\n",
    "    \"\"\"\n",
    "    This takes a (3[RGB], H, W) tensor in R[0.0, 1.0] and displays it with matplotlib.\n",
    "    \"\"\"\n",
    "    image = tensor.detach().cpu().numpy().transpose(1,2,0) # move the channel axis to the end, because PIL and matplotlib hate each other\n",
    "    plt.imshow(image)\n",
    "    plt.axis('off')\n",
    "    plt.show()"
   ]
  },
  {
   "cell_type": "code",
   "execution_count": null,
   "metadata": {
    "colab": {
     "base_uri": "https://localhost:8080/"
    },
    "executionInfo": {
     "elapsed": 14,
     "status": "ok",
     "timestamp": 1743023066365,
     "user": {
      "displayName": "Jade S",
      "userId": "08462326512389871838"
     },
     "user_tz": 240
    },
    "id": "qlvsRzNOrXsT",
    "outputId": "d814d359-8c02-4bb8-f388-5330f91ed0ca"
   },
   "outputs": [
    {
     "name": "stdout",
     "output_type": "stream",
     "text": [
      "Using device: cuda\n"
     ]
    }
   ],
   "source": [
    "device = torch.device('cuda' if torch.cuda.is_available() else 'cpu')\n",
    "print(f'Using device: {device}')"
   ]
  },
  {
   "cell_type": "markdown",
   "metadata": {
    "id": "B17GtXW4g_L9"
   },
   "source": [
    "## Building the data loader"
   ]
  },
  {
   "cell_type": "markdown",
   "metadata": {
    "id": "Snd7PueTg_L9"
   },
   "source": [
    "These are transforms that allow us to ingest the image tensors with some extra confusion at training time. `processor` makes the data loader spit out tensors, and `noiser` adds Gaussian noise."
   ]
  },
  {
   "cell_type": "code",
   "execution_count": null,
   "metadata": {
    "executionInfo": {
     "elapsed": 64,
     "status": "ok",
     "timestamp": 1743023066428,
     "user": {
      "displayName": "Jade S",
      "userId": "08462326512389871838"
     },
     "user_tz": 240
    },
    "id": "ZBLCG5lig_L9"
   },
   "outputs": [],
   "source": [
    "# This just processes the images.\n",
    "NOISE_RATIO = 0.1\n",
    "H, W = 128, 128\n",
    "\n",
    "processor = v2.Compose([\n",
    "    v2.PILToTensor(), # the LeafsnapDataset class gives PIL Images, convert to torch Tensor\n",
    "    v2.RandomRotation(degrees=(-90, 90), expand=True),\n",
    "    v2.Resize((H, W)), # resize\n",
    "    lambda x: x / 255.0, # convert N[0, 255] to R[0.0, 1.0]\n",
    "    lambda x: torch.clip(x + NOISE_RATIO*torch.randn_like(x), 0.0, 1.0), # add noise\n",
    "])"
   ]
  },
  {
   "cell_type": "code",
   "execution_count": null,
   "metadata": {
    "executionInfo": {
     "elapsed": 46,
     "status": "ok",
     "timestamp": 1743023066486,
     "user": {
      "displayName": "Jade S",
      "userId": "08462326512389871838"
     },
     "user_tz": 240
    },
    "id": "frUcSFc1g_L-"
   },
   "outputs": [],
   "source": [
    "BATCH_SIZE = 64\n",
    "\n",
    "root_directory = os.path.join(os.getcwd(), 'leafsnap-dataset') # you make need to edit this path to work, though, it works on Colab by default and works locally if you keep the dataset at the root of the repo\n",
    "image_paths_file = os.path.join(root_directory, \"train.txt\")\n",
    "dataset = LeafsnapDataset(image_paths_file, root_directory, use_segmented=True, source=\"field\", transform=processor)\n",
    "dataloader = DataLoader(dataset, batch_size=BATCH_SIZE, shuffle=True)"
   ]
  },
  {
   "cell_type": "markdown",
   "metadata": {
    "id": "FaLBO6h8g_L-"
   },
   "source": [
    "## Training the Convolutional Neural Network (CNN)"
   ]
  },
  {
   "cell_type": "markdown",
   "metadata": {
    "id": "WK2Yd5Nwg_L_"
   },
   "source": [
    "This model uses a modified version of ResNet from Homework 2. It specifically is a version of ResNet34, with kernel size raised to 5, and skip layers at sizes 32, 64, and 128. Images have been downscaled to 128x128, and the segmentation image is used as a 4th layer, resulting in an input size of 4x128x128."
   ]
  },
  {
   "cell_type": "code",
   "execution_count": null,
   "metadata": {
    "colab": {
     "base_uri": "https://localhost:8080/"
    },
    "executionInfo": {
     "elapsed": 6146839,
     "status": "ok",
     "timestamp": 1743029213327,
     "user": {
      "displayName": "Jade S",
      "userId": "08462326512389871838"
     },
     "user_tz": 240
    },
    "id": "693oRWNdg_L_",
    "outputId": "f00955cf-9469-4a32-9441-8726f18ba512"
   },
   "outputs": [
    {
     "name": "stderr",
     "output_type": "stream",
     "text": [
      "Epoch 1/20: 100%|██████████| 121/121 [05:10<00:00,  2.56s/it, batch=121/121, loss=6.58]\n"
     ]
    },
    {
     "name": "stdout",
     "output_type": "stream",
     "text": [
      "Epoch 0 loss: 10.936660147895498\n"
     ]
    },
    {
     "name": "stderr",
     "output_type": "stream",
     "text": [
      "Epoch 2/20: 100%|██████████| 121/121 [05:06<00:00,  2.53s/it, batch=121/121, loss=4.91]\n"
     ]
    },
    {
     "name": "stdout",
     "output_type": "stream",
     "text": [
      "Epoch 1 loss: 5.423137692380543\n"
     ]
    },
    {
     "name": "stderr",
     "output_type": "stream",
     "text": [
      "Epoch 3/20: 100%|██████████| 121/121 [05:05<00:00,  2.52s/it, batch=121/121, loss=4.71]\n"
     ]
    },
    {
     "name": "stdout",
     "output_type": "stream",
     "text": [
      "Epoch 2 loss: 4.746104057170143\n"
     ]
    },
    {
     "name": "stderr",
     "output_type": "stream",
     "text": [
      "Epoch 4/20: 100%|██████████| 121/121 [05:04<00:00,  2.52s/it, batch=121/121, loss=3.89]\n"
     ]
    },
    {
     "name": "stdout",
     "output_type": "stream",
     "text": [
      "Epoch 3 loss: 4.3671981913984315\n"
     ]
    },
    {
     "name": "stderr",
     "output_type": "stream",
     "text": [
      "Epoch 5/20: 100%|██████████| 121/121 [05:04<00:00,  2.52s/it, batch=121/121, loss=4.32]\n"
     ]
    },
    {
     "name": "stdout",
     "output_type": "stream",
     "text": [
      "Epoch 4 loss: 4.058038250473905\n"
     ]
    },
    {
     "name": "stderr",
     "output_type": "stream",
     "text": [
      "Epoch 6/20: 100%|██████████| 121/121 [05:10<00:00,  2.56s/it, batch=121/121, loss=3.48]\n"
     ]
    },
    {
     "name": "stdout",
     "output_type": "stream",
     "text": [
      "Epoch 5 loss: 3.7443720545650514\n"
     ]
    },
    {
     "name": "stderr",
     "output_type": "stream",
     "text": [
      "Epoch 7/20: 100%|██████████| 121/121 [05:08<00:00,  2.55s/it, batch=121/121, loss=3.65]\n"
     ]
    },
    {
     "name": "stdout",
     "output_type": "stream",
     "text": [
      "Epoch 6 loss: 3.5061032043015663\n"
     ]
    },
    {
     "name": "stderr",
     "output_type": "stream",
     "text": [
      "Epoch 8/20: 100%|██████████| 121/121 [05:05<00:00,  2.53s/it, batch=121/121, loss=3.54]\n"
     ]
    },
    {
     "name": "stdout",
     "output_type": "stream",
     "text": [
      "Epoch 7 loss: 3.319442784490664\n"
     ]
    },
    {
     "name": "stderr",
     "output_type": "stream",
     "text": [
      "Epoch 9/20: 100%|██████████| 121/121 [05:07<00:00,  2.54s/it, batch=121/121, loss=3.41]\n"
     ]
    },
    {
     "name": "stdout",
     "output_type": "stream",
     "text": [
      "Epoch 8 loss: 3.0753782012245874\n"
     ]
    },
    {
     "name": "stderr",
     "output_type": "stream",
     "text": [
      "Epoch 10/20: 100%|██████████| 121/121 [05:05<00:00,  2.52s/it, batch=121/121, loss=2.77]\n"
     ]
    },
    {
     "name": "stdout",
     "output_type": "stream",
     "text": [
      "Epoch 9 loss: 2.8929615198088086\n"
     ]
    },
    {
     "name": "stderr",
     "output_type": "stream",
     "text": [
      "Epoch 11/20: 100%|██████████| 121/121 [05:06<00:00,  2.53s/it, batch=121/121, loss=2.28]\n"
     ]
    },
    {
     "name": "stdout",
     "output_type": "stream",
     "text": [
      "Epoch 10 loss: 2.707068439357537\n"
     ]
    },
    {
     "name": "stderr",
     "output_type": "stream",
     "text": [
      "Epoch 12/20: 100%|██████████| 121/121 [05:07<00:00,  2.54s/it, batch=121/121, loss=2.11]\n"
     ]
    },
    {
     "name": "stdout",
     "output_type": "stream",
     "text": [
      "Epoch 11 loss: 2.520565310785593\n"
     ]
    },
    {
     "name": "stderr",
     "output_type": "stream",
     "text": [
      "Epoch 13/20: 100%|██████████| 121/121 [05:07<00:00,  2.54s/it, batch=121/121, loss=2.38]\n"
     ]
    },
    {
     "name": "stdout",
     "output_type": "stream",
     "text": [
      "Epoch 12 loss: 2.3256359898354395\n"
     ]
    },
    {
     "name": "stderr",
     "output_type": "stream",
     "text": [
      "Epoch 14/20: 100%|██████████| 121/121 [05:06<00:00,  2.54s/it, batch=121/121, loss=2.01]\n"
     ]
    },
    {
     "name": "stdout",
     "output_type": "stream",
     "text": [
      "Epoch 13 loss: 2.204226293839699\n"
     ]
    },
    {
     "name": "stderr",
     "output_type": "stream",
     "text": [
      "Epoch 15/20: 100%|██████████| 121/121 [05:06<00:00,  2.53s/it, batch=121/121, loss=3.35]\n"
     ]
    },
    {
     "name": "stdout",
     "output_type": "stream",
     "text": [
      "Epoch 14 loss: 2.0803223247370446\n"
     ]
    },
    {
     "name": "stderr",
     "output_type": "stream",
     "text": [
      "Epoch 16/20: 100%|██████████| 121/121 [05:06<00:00,  2.53s/it, batch=121/121, loss=2.21]\n"
     ]
    },
    {
     "name": "stdout",
     "output_type": "stream",
     "text": [
      "Epoch 15 loss: 1.9372497402932034\n"
     ]
    },
    {
     "name": "stderr",
     "output_type": "stream",
     "text": [
      "Epoch 17/20: 100%|██████████| 121/121 [05:07<00:00,  2.54s/it, batch=121/121, loss=1.64]\n"
     ]
    },
    {
     "name": "stdout",
     "output_type": "stream",
     "text": [
      "Epoch 16 loss: 1.8094627472979963\n"
     ]
    },
    {
     "name": "stderr",
     "output_type": "stream",
     "text": [
      "Epoch 18/20: 100%|██████████| 121/121 [05:11<00:00,  2.58s/it, batch=121/121, loss=1.9]\n"
     ]
    },
    {
     "name": "stdout",
     "output_type": "stream",
     "text": [
      "Epoch 17 loss: 1.6627394965857514\n"
     ]
    },
    {
     "name": "stderr",
     "output_type": "stream",
     "text": [
      "Epoch 19/20: 100%|██████████| 121/121 [05:09<00:00,  2.55s/it, batch=121/121, loss=1.48]\n"
     ]
    },
    {
     "name": "stdout",
     "output_type": "stream",
     "text": [
      "Epoch 18 loss: 1.5458257484041955\n"
     ]
    },
    {
     "name": "stderr",
     "output_type": "stream",
     "text": [
      "Epoch 20/20: 100%|██████████| 121/121 [05:08<00:00,  2.55s/it, batch=121/121, loss=1.69]"
     ]
    },
    {
     "name": "stdout",
     "output_type": "stream",
     "text": [
      "Epoch 19 loss: 1.4748163257748628\n"
     ]
    },
    {
     "name": "stderr",
     "output_type": "stream",
     "text": [
      "\n"
     ]
    }
   ],
   "source": [
    "model = resnet(4, 185, device=device)\n",
    "\n",
    "train_resnet_model(model, dataloader, 25, .001, device=device)\n"
   ]
  },
  {
   "cell_type": "code",
   "execution_count": null,
   "metadata": {
    "executionInfo": {
     "elapsed": 60,
     "status": "ok",
     "timestamp": 1743029213393,
     "user": {
      "displayName": "Jade S",
      "userId": "08462326512389871838"
     },
     "user_tz": 240
    },
    "id": "sQzs2bGwg_MA"
   },
   "outputs": [],
   "source": [
    "torch.save(model.state_dict(), \"cnn_model_train.pth\")"
   ]
  },
  {
   "cell_type": "markdown",
   "metadata": {
    "id": "rVA0iHLeg_MA"
   },
   "source": [
    "## Testing the CNN"
   ]
  },
  {
   "cell_type": "code",
   "execution_count": null,
   "metadata": {
    "colab": {
     "base_uri": "https://localhost:8080/"
    },
    "executionInfo": {
     "elapsed": 179636,
     "status": "ok",
     "timestamp": 1743029393042,
     "user": {
      "displayName": "Jade S",
      "userId": "08462326512389871838"
     },
     "user_tz": 240
    },
    "id": "whBbgkVbg_MB",
    "outputId": "abd6bd44-fe1a-45ee-ea11-a0ede2ed05d4"
   },
   "outputs": [
    {
     "name": "stdout",
     "output_type": "stream",
     "text": [
      "Top-1 Accuracy: 69.06%\n",
      "Top-5 Accuracy: 89.99%\n"
     ]
    }
   ],
   "source": [
    "correct_top1 = 0\n",
    "correct_top5 = 0\n",
    "total = 0\n",
    "\n",
    "model.to(device)\n",
    "with torch.no_grad(): # No gradients needed for evaluation\n",
    "    for inputs, labels in dataloader:\n",
    "        inputs, labels = inputs.to(device), labels.to(device)\n",
    "        outputs = model(inputs)\n",
    "\n",
    "        # Top-1 Accuracy\n",
    "        _, predicted = torch.max(outputs, 1)\n",
    "        correct_top1 += (predicted == labels).sum().item()\n",
    "\n",
    "        # Top-5 Accuracy\n",
    "        top5_preds = torch.topk(outputs, 5, dim=1).indices\n",
    "        correct_top5 += torch.sum(top5_preds.eq(labels.view(-1, 1))).item()\n",
    "\n",
    "        total += labels.size(0)\n",
    "\n",
    "# Compute accuracies\n",
    "top1_accuracy = 100 * correct_top1 / total\n",
    "top5_accuracy = 100 * correct_top5 / total\n",
    "\n",
    "print(f\"Top-1 Accuracy: {top1_accuracy:.2f}%\")\n",
    "print(f\"Top-5 Accuracy: {top5_accuracy:.2f}%\")\n"
   ]
  },
  {
   "cell_type": "markdown",
   "metadata": {
    "id": "b_t7sGbPWNOn"
   },
   "source": [
    "After various tweaks, I'm very happy with the current training accuracy of the CNN model, especially for the first check-in. Running at a 90% Top-5 accuracy is excellent, although there is certainly some more hyperparameter tweaking to be done. I may also test changing the model's structure, adding techniques such as dropout that have been used in other models for similar purposes. I would like to reach 80% Top-1 accuracy by the end."
   ]
  }
 ],
 "metadata": {
  "colab": {
   "provenance": []
  },
  "kernelspec": {
   "display_name": "ml_steam_proj",
   "language": "python",
   "name": "python3"
  },
  "language_info": {
   "codemirror_mode": {
    "name": "ipython",
    "version": 3
   },
   "file_extension": ".py",
   "mimetype": "text/x-python",
   "name": "python",
   "nbconvert_exporter": "python",
   "pygments_lexer": "ipython3",
   "version": "3.12.7"
  }
 },
 "nbformat": 4,
 "nbformat_minor": 0
}
